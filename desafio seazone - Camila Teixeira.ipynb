{
 "cells": [
  {
   "cell_type": "markdown",
   "metadata": {},
   "source": [
    "Olá,\n",
    "\n",
    "Neste arquivo eu apresento minha solução para o desafio Seazone para a vaga Analista de dados junior.\n",
    "\n",
    "Primeiramente realizou-se a importação das bibliotecas necessarias:"
   ]
  },
  {
   "cell_type": "code",
   "execution_count": 122,
   "metadata": {},
   "outputs": [],
   "source": [
    "import pandas as pd\n",
    "import seaborn as srn\n",
    "import sys\n",
    "import sklearn.neighbors._base\n",
    "sys.modules['sklearn.neighbors.base'] = sklearn.neighbors._base\n",
    "from missingpy import MissForest\n",
    "from sklearn.preprocessing import LabelEncoder"
   ]
  },
  {
   "cell_type": "markdown",
   "metadata": {},
   "source": [
    "import sys\n",
    "\n",
    "import sklearn.neighbors._base\n",
    "\n",
    "sys.modules['sklearn.neighbors.base'] = sklearn.neighbors._base\n",
    "\n",
    "**É importante salientar que caso não haja problemas de compatibilidade com a biblioteca missingpy com sua maquina esta parte do codigo apresentada acima pode ser ignorada.**\n",
    "\n",
    "A seguir carregou-se os conjuntos de dados e visualizou-se suas as primeiras linhas.\n",
    "\n",
    "Os dados se encontram na pasta dados seazone."
   ]
  },
  {
   "cell_type": "code",
   "execution_count": 123,
   "metadata": {
    "scrolled": false
   },
   "outputs": [
    {
     "name": "stdout",
     "output_type": "stream",
     "text": [
      "C:\\Users\\camil\\Documents\\seazone\n"
     ]
    },
    {
     "data": {
      "text/html": [
       "<div>\n",
       "<style scoped>\n",
       "    .dataframe tbody tr th:only-of-type {\n",
       "        vertical-align: middle;\n",
       "    }\n",
       "\n",
       "    .dataframe tbody tr th {\n",
       "        vertical-align: top;\n",
       "    }\n",
       "\n",
       "    .dataframe thead th {\n",
       "        text-align: right;\n",
       "    }\n",
       "</style>\n",
       "<table border=\"1\" class=\"dataframe\">\n",
       "  <thead>\n",
       "    <tr style=\"text-align: right;\">\n",
       "      <th></th>\n",
       "      <th>Unnamed: 0</th>\n",
       "      <th>airbnb_listing_id</th>\n",
       "      <th>suburb</th>\n",
       "      <th>ad_name</th>\n",
       "      <th>number_of_bedrooms</th>\n",
       "      <th>number_of_bathrooms</th>\n",
       "      <th>star_rating</th>\n",
       "      <th>is_superhost</th>\n",
       "      <th>number_of_reviews</th>\n",
       "    </tr>\n",
       "  </thead>\n",
       "  <tbody>\n",
       "    <tr>\n",
       "      <th>0</th>\n",
       "      <td>0</td>\n",
       "      <td>31389869</td>\n",
       "      <td>Jurerê</td>\n",
       "      <td>Lindo Apartamento em Jurerê</td>\n",
       "      <td>2.0</td>\n",
       "      <td>2.0</td>\n",
       "      <td>5.0</td>\n",
       "      <td>False</td>\n",
       "      <td>15.0</td>\n",
       "    </tr>\n",
       "    <tr>\n",
       "      <th>1</th>\n",
       "      <td>1</td>\n",
       "      <td>40010667</td>\n",
       "      <td>Canasvieiras</td>\n",
       "      <td>Residencial Arruda, 1 quarto</td>\n",
       "      <td>1.0</td>\n",
       "      <td>1.0</td>\n",
       "      <td>NaN</td>\n",
       "      <td>False</td>\n",
       "      <td>0.0</td>\n",
       "    </tr>\n",
       "    <tr>\n",
       "      <th>2</th>\n",
       "      <td>2</td>\n",
       "      <td>38905997</td>\n",
       "      <td>Ingleses</td>\n",
       "      <td>Apartamento NOVO Completo - Moderno e Sofisticado</td>\n",
       "      <td>1.0</td>\n",
       "      <td>1.0</td>\n",
       "      <td>4.5</td>\n",
       "      <td>True</td>\n",
       "      <td>13.0</td>\n",
       "    </tr>\n",
       "    <tr>\n",
       "      <th>3</th>\n",
       "      <td>3</td>\n",
       "      <td>22343656</td>\n",
       "      <td>Ingleses</td>\n",
       "      <td>06- Apartamento 02 habitaciones</td>\n",
       "      <td>2.0</td>\n",
       "      <td>1.0</td>\n",
       "      <td>5.0</td>\n",
       "      <td>True</td>\n",
       "      <td>28.0</td>\n",
       "    </tr>\n",
       "    <tr>\n",
       "      <th>4</th>\n",
       "      <td>4</td>\n",
       "      <td>18328184</td>\n",
       "      <td>Canasvieiras</td>\n",
       "      <td>Apto 2 quartos em Canasvieiras, Florianopolis!</td>\n",
       "      <td>2.0</td>\n",
       "      <td>1.0</td>\n",
       "      <td>5.0</td>\n",
       "      <td>True</td>\n",
       "      <td>35.0</td>\n",
       "    </tr>\n",
       "  </tbody>\n",
       "</table>\n",
       "</div>"
      ],
      "text/plain": [
       "   Unnamed: 0  airbnb_listing_id        suburb  \\\n",
       "0           0           31389869        Jurerê   \n",
       "1           1           40010667  Canasvieiras   \n",
       "2           2           38905997      Ingleses   \n",
       "3           3           22343656      Ingleses   \n",
       "4           4           18328184  Canasvieiras   \n",
       "\n",
       "                                             ad_name  number_of_bedrooms  \\\n",
       "0                        Lindo Apartamento em Jurerê                 2.0   \n",
       "1                       Residencial Arruda, 1 quarto                 1.0   \n",
       "2  Apartamento NOVO Completo - Moderno e Sofisticado                 1.0   \n",
       "3                    06- Apartamento 02 habitaciones                 2.0   \n",
       "4     Apto 2 quartos em Canasvieiras, Florianopolis!                 2.0   \n",
       "\n",
       "   number_of_bathrooms  star_rating  is_superhost  number_of_reviews  \n",
       "0                  2.0          5.0         False               15.0  \n",
       "1                  1.0          NaN         False                0.0  \n",
       "2                  1.0          4.5          True               13.0  \n",
       "3                  1.0          5.0          True               28.0  \n",
       "4                  1.0          5.0          True               35.0  "
      ]
     },
     "execution_count": 123,
     "metadata": {},
     "output_type": "execute_result"
    }
   ],
   "source": [
    "#Carregando os dados\n",
    "\n",
    "#altere o diretorio para pasta que contem os dados em sua maquina\n",
    "%cd \"C:\\Users\\camil\\Documents\\seazone\" \n",
    "\n",
    "\n",
    "df_detalhes = pd.read_csv('desafio_details.csv')\n",
    "df_price = pd.read_csv('desafio_priceav.csv')\n",
    "df_detalhes.head()"
   ]
  },
  {
   "cell_type": "code",
   "execution_count": 124,
   "metadata": {
    "scrolled": true
   },
   "outputs": [
    {
     "data": {
      "text/html": [
       "<div>\n",
       "<style scoped>\n",
       "    .dataframe tbody tr th:only-of-type {\n",
       "        vertical-align: middle;\n",
       "    }\n",
       "\n",
       "    .dataframe tbody tr th {\n",
       "        vertical-align: top;\n",
       "    }\n",
       "\n",
       "    .dataframe thead th {\n",
       "        text-align: right;\n",
       "    }\n",
       "</style>\n",
       "<table border=\"1\" class=\"dataframe\">\n",
       "  <thead>\n",
       "    <tr style=\"text-align: right;\">\n",
       "      <th></th>\n",
       "      <th>Unnamed: 0</th>\n",
       "      <th>Unnamed: 0.1</th>\n",
       "      <th>airbnb_listing_id</th>\n",
       "      <th>booked_on</th>\n",
       "      <th>date</th>\n",
       "      <th>price_string</th>\n",
       "      <th>occupied</th>\n",
       "    </tr>\n",
       "  </thead>\n",
       "  <tbody>\n",
       "    <tr>\n",
       "      <th>0</th>\n",
       "      <td>0</td>\n",
       "      <td>2148</td>\n",
       "      <td>40201349</td>\n",
       "      <td>blank</td>\n",
       "      <td>2020-11-15</td>\n",
       "      <td>250.0</td>\n",
       "      <td>0</td>\n",
       "    </tr>\n",
       "    <tr>\n",
       "      <th>1</th>\n",
       "      <td>1</td>\n",
       "      <td>2159</td>\n",
       "      <td>40201349</td>\n",
       "      <td>blank</td>\n",
       "      <td>2020-11-26</td>\n",
       "      <td>250.0</td>\n",
       "      <td>0</td>\n",
       "    </tr>\n",
       "    <tr>\n",
       "      <th>2</th>\n",
       "      <td>2</td>\n",
       "      <td>2160</td>\n",
       "      <td>40201349</td>\n",
       "      <td>blank</td>\n",
       "      <td>2020-11-27</td>\n",
       "      <td>250.0</td>\n",
       "      <td>0</td>\n",
       "    </tr>\n",
       "    <tr>\n",
       "      <th>3</th>\n",
       "      <td>3</td>\n",
       "      <td>2173</td>\n",
       "      <td>40201349</td>\n",
       "      <td>blank</td>\n",
       "      <td>2020-12-10</td>\n",
       "      <td>250.0</td>\n",
       "      <td>0</td>\n",
       "    </tr>\n",
       "    <tr>\n",
       "      <th>4</th>\n",
       "      <td>4</td>\n",
       "      <td>2226</td>\n",
       "      <td>40201349</td>\n",
       "      <td>blank</td>\n",
       "      <td>2021-02-01</td>\n",
       "      <td>250.0</td>\n",
       "      <td>0</td>\n",
       "    </tr>\n",
       "  </tbody>\n",
       "</table>\n",
       "</div>"
      ],
      "text/plain": [
       "   Unnamed: 0  Unnamed: 0.1  airbnb_listing_id booked_on        date  \\\n",
       "0           0          2148           40201349     blank  2020-11-15   \n",
       "1           1          2159           40201349     blank  2020-11-26   \n",
       "2           2          2160           40201349     blank  2020-11-27   \n",
       "3           3          2173           40201349     blank  2020-12-10   \n",
       "4           4          2226           40201349     blank  2021-02-01   \n",
       "\n",
       "   price_string  occupied  \n",
       "0         250.0         0  \n",
       "1         250.0         0  \n",
       "2         250.0         0  \n",
       "3         250.0         0  \n",
       "4         250.0         0  "
      ]
     },
     "execution_count": 124,
     "metadata": {},
     "output_type": "execute_result"
    }
   ],
   "source": [
    "df_price.head()"
   ]
  },
  {
   "cell_type": "markdown",
   "metadata": {},
   "source": [
    "Observou-se que no dataframe há colunas desnecessarias utilizadas como indice que podem ser removidas sem nenhum prejuizo, conforme apresentado abaixo:"
   ]
  },
  {
   "cell_type": "code",
   "execution_count": 125,
   "metadata": {
    "scrolled": true
   },
   "outputs": [
    {
     "data": {
      "text/html": [
       "<div>\n",
       "<style scoped>\n",
       "    .dataframe tbody tr th:only-of-type {\n",
       "        vertical-align: middle;\n",
       "    }\n",
       "\n",
       "    .dataframe tbody tr th {\n",
       "        vertical-align: top;\n",
       "    }\n",
       "\n",
       "    .dataframe thead th {\n",
       "        text-align: right;\n",
       "    }\n",
       "</style>\n",
       "<table border=\"1\" class=\"dataframe\">\n",
       "  <thead>\n",
       "    <tr style=\"text-align: right;\">\n",
       "      <th></th>\n",
       "      <th>airbnb_listing_id</th>\n",
       "      <th>booked_on</th>\n",
       "      <th>date</th>\n",
       "      <th>price_string</th>\n",
       "      <th>occupied</th>\n",
       "    </tr>\n",
       "  </thead>\n",
       "  <tbody>\n",
       "    <tr>\n",
       "      <th>0</th>\n",
       "      <td>40201349</td>\n",
       "      <td>blank</td>\n",
       "      <td>2020-11-15</td>\n",
       "      <td>250.0</td>\n",
       "      <td>0</td>\n",
       "    </tr>\n",
       "    <tr>\n",
       "      <th>1</th>\n",
       "      <td>40201349</td>\n",
       "      <td>blank</td>\n",
       "      <td>2020-11-26</td>\n",
       "      <td>250.0</td>\n",
       "      <td>0</td>\n",
       "    </tr>\n",
       "    <tr>\n",
       "      <th>2</th>\n",
       "      <td>40201349</td>\n",
       "      <td>blank</td>\n",
       "      <td>2020-11-27</td>\n",
       "      <td>250.0</td>\n",
       "      <td>0</td>\n",
       "    </tr>\n",
       "    <tr>\n",
       "      <th>3</th>\n",
       "      <td>40201349</td>\n",
       "      <td>blank</td>\n",
       "      <td>2020-12-10</td>\n",
       "      <td>250.0</td>\n",
       "      <td>0</td>\n",
       "    </tr>\n",
       "    <tr>\n",
       "      <th>4</th>\n",
       "      <td>40201349</td>\n",
       "      <td>blank</td>\n",
       "      <td>2021-02-01</td>\n",
       "      <td>250.0</td>\n",
       "      <td>0</td>\n",
       "    </tr>\n",
       "  </tbody>\n",
       "</table>\n",
       "</div>"
      ],
      "text/plain": [
       "   airbnb_listing_id booked_on        date  price_string  occupied\n",
       "0           40201349     blank  2020-11-15         250.0         0\n",
       "1           40201349     blank  2020-11-26         250.0         0\n",
       "2           40201349     blank  2020-11-27         250.0         0\n",
       "3           40201349     blank  2020-12-10         250.0         0\n",
       "4           40201349     blank  2021-02-01         250.0         0"
      ]
     },
     "execution_count": 125,
     "metadata": {},
     "output_type": "execute_result"
    }
   ],
   "source": [
    "df_price= df_price.drop(\"Unnamed: 0\", axis =1)\n",
    "df_price= df_price.drop(\"Unnamed: 0.1\", axis =1)\n",
    "df_detalhes= df_detalhes.drop(\"Unnamed: 0\", axis =1)\n",
    "\n",
    "df_price.head()"
   ]
  },
  {
   "cell_type": "code",
   "execution_count": 126,
   "metadata": {},
   "outputs": [
    {
     "data": {
      "text/html": [
       "<div>\n",
       "<style scoped>\n",
       "    .dataframe tbody tr th:only-of-type {\n",
       "        vertical-align: middle;\n",
       "    }\n",
       "\n",
       "    .dataframe tbody tr th {\n",
       "        vertical-align: top;\n",
       "    }\n",
       "\n",
       "    .dataframe thead th {\n",
       "        text-align: right;\n",
       "    }\n",
       "</style>\n",
       "<table border=\"1\" class=\"dataframe\">\n",
       "  <thead>\n",
       "    <tr style=\"text-align: right;\">\n",
       "      <th></th>\n",
       "      <th>airbnb_listing_id</th>\n",
       "      <th>suburb</th>\n",
       "      <th>ad_name</th>\n",
       "      <th>number_of_bedrooms</th>\n",
       "      <th>number_of_bathrooms</th>\n",
       "      <th>star_rating</th>\n",
       "      <th>is_superhost</th>\n",
       "      <th>number_of_reviews</th>\n",
       "    </tr>\n",
       "  </thead>\n",
       "  <tbody>\n",
       "    <tr>\n",
       "      <th>0</th>\n",
       "      <td>31389869</td>\n",
       "      <td>Jurerê</td>\n",
       "      <td>Lindo Apartamento em Jurerê</td>\n",
       "      <td>2.0</td>\n",
       "      <td>2.0</td>\n",
       "      <td>5.0</td>\n",
       "      <td>False</td>\n",
       "      <td>15.0</td>\n",
       "    </tr>\n",
       "    <tr>\n",
       "      <th>1</th>\n",
       "      <td>40010667</td>\n",
       "      <td>Canasvieiras</td>\n",
       "      <td>Residencial Arruda, 1 quarto</td>\n",
       "      <td>1.0</td>\n",
       "      <td>1.0</td>\n",
       "      <td>NaN</td>\n",
       "      <td>False</td>\n",
       "      <td>0.0</td>\n",
       "    </tr>\n",
       "    <tr>\n",
       "      <th>2</th>\n",
       "      <td>38905997</td>\n",
       "      <td>Ingleses</td>\n",
       "      <td>Apartamento NOVO Completo - Moderno e Sofisticado</td>\n",
       "      <td>1.0</td>\n",
       "      <td>1.0</td>\n",
       "      <td>4.5</td>\n",
       "      <td>True</td>\n",
       "      <td>13.0</td>\n",
       "    </tr>\n",
       "    <tr>\n",
       "      <th>3</th>\n",
       "      <td>22343656</td>\n",
       "      <td>Ingleses</td>\n",
       "      <td>06- Apartamento 02 habitaciones</td>\n",
       "      <td>2.0</td>\n",
       "      <td>1.0</td>\n",
       "      <td>5.0</td>\n",
       "      <td>True</td>\n",
       "      <td>28.0</td>\n",
       "    </tr>\n",
       "    <tr>\n",
       "      <th>4</th>\n",
       "      <td>18328184</td>\n",
       "      <td>Canasvieiras</td>\n",
       "      <td>Apto 2 quartos em Canasvieiras, Florianopolis!</td>\n",
       "      <td>2.0</td>\n",
       "      <td>1.0</td>\n",
       "      <td>5.0</td>\n",
       "      <td>True</td>\n",
       "      <td>35.0</td>\n",
       "    </tr>\n",
       "  </tbody>\n",
       "</table>\n",
       "</div>"
      ],
      "text/plain": [
       "   airbnb_listing_id        suburb  \\\n",
       "0           31389869        Jurerê   \n",
       "1           40010667  Canasvieiras   \n",
       "2           38905997      Ingleses   \n",
       "3           22343656      Ingleses   \n",
       "4           18328184  Canasvieiras   \n",
       "\n",
       "                                             ad_name  number_of_bedrooms  \\\n",
       "0                        Lindo Apartamento em Jurerê                 2.0   \n",
       "1                       Residencial Arruda, 1 quarto                 1.0   \n",
       "2  Apartamento NOVO Completo - Moderno e Sofisticado                 1.0   \n",
       "3                    06- Apartamento 02 habitaciones                 2.0   \n",
       "4     Apto 2 quartos em Canasvieiras, Florianopolis!                 2.0   \n",
       "\n",
       "   number_of_bathrooms  star_rating  is_superhost  number_of_reviews  \n",
       "0                  2.0          5.0         False               15.0  \n",
       "1                  1.0          NaN         False                0.0  \n",
       "2                  1.0          4.5          True               13.0  \n",
       "3                  1.0          5.0          True               28.0  \n",
       "4                  1.0          5.0          True               35.0  "
      ]
     },
     "execution_count": 126,
     "metadata": {},
     "output_type": "execute_result"
    }
   ],
   "source": [
    "df_detalhes.head()"
   ]
  },
  {
   "cell_type": "markdown",
   "metadata": {},
   "source": [
    "Visualizou-se a dimensão dos dois conjuntos de dados e removemos as linhas duplicadas. Após as alterações observamos novamente a dimensão dos dados e podemos observar que o dataframe \"df_price\" possuia linhas duplicadas.\n",
    "\n",
    "Em seguida observamos a quantidade de valores nulos."
   ]
  },
  {
   "cell_type": "code",
   "execution_count": 128,
   "metadata": {},
   "outputs": [
    {
     "name": "stdout",
     "output_type": "stream",
     "text": [
      "Dimensão dos dados de preço dos listing\n",
      "(4691, 8) \n",
      "\n",
      "Dimensão dos dados de caracteristicas dos listing\n",
      "(284086, 5) \n",
      "\n",
      "Dimensão dos dados de preço dos listing após a remoção de linhas duplicadas\n",
      "(4691, 8) \n",
      "\n",
      "Dimensão dos dados de caracteristicas dos listing após a remoção de linhas duplicadas\n",
      "(284086, 5) \n",
      "\n",
      "Valores nulos dos dados de caracteristicas dos listing\n",
      "airbnb_listing_id         0\n",
      "suburb                    0\n",
      "ad_name                   0\n",
      "number_of_bedrooms      183\n",
      "number_of_bathrooms       1\n",
      "star_rating            2121\n",
      "is_superhost              0\n",
      "number_of_reviews         7\n",
      "dtype: int64 \n",
      "\n",
      "Valores nulos dos dados de preço dos listing\n",
      "airbnb_listing_id    0\n",
      "booked_on            0\n",
      "date                 0\n",
      "price_string         0\n",
      "occupied             0\n",
      "dtype: int64\n"
     ]
    }
   ],
   "source": [
    "#observado a dimensao dos dataframes\n",
    "print(f'Dimensão dos dados de preço dos listing')\n",
    "print(df_detalhes.shape, '\\n')\n",
    "print(f'Dimensão dos dados de caracteristicas dos listing')\n",
    "print(df_price.shape, '\\n')\n",
    "#removendo linhas duplicadas\n",
    "df_detalhes = df_detalhes.drop_duplicates()\n",
    "df_price = df_price.drop_duplicates()\n",
    "#dimensões após alterações\n",
    "print(f'Dimensão dos dados de preço dos listing após a remoção de linhas duplicadas')\n",
    "print(df_detalhes.shape, '\\n')\n",
    "print(f'Dimensão dos dados de caracteristicas dos listing após a remoção de linhas duplicadas')\n",
    "print(df_price.shape, '\\n')\n",
    "print(f'Valores nulos dos dados de caracteristicas dos listing')\n",
    "#Valores nulos para os datalhes\n",
    "print(df_detalhes.isnull().sum(), \"\\n\")\n",
    "#Valores nulos para os dados de preço\n",
    "print(f'Valores nulos dos dados de preço dos listing')\n",
    "print(df_price.isnull().sum())\n"
   ]
  },
  {
   "cell_type": "markdown",
   "metadata": {},
   "source": [
    "Na celula abaixo substituiu-se os valores faltantes pela mediana dos mesmos, como a quantidade de valores nulos é baixa nas colunas \"number_of_bedrooms\", \"number_of_bathrooms\" e \"numero number_of_reviews\" essa aproximação não trará problemas."
   ]
  },
  {
   "cell_type": "code",
   "execution_count": 130,
   "metadata": {},
   "outputs": [],
   "source": [
    "df_detalhes['number_of_bedrooms'] = df_detalhes['number_of_bedrooms'].fillna(df_detalhes['number_of_bedrooms'].median())\n",
    "df_detalhes['number_of_bathrooms'] = df_detalhes['number_of_bathrooms'].fillna(df_detalhes['number_of_bathrooms'].median())\n",
    "df_detalhes['number_of_reviews'] = df_detalhes['number_of_reviews'].fillna(df_detalhes['number_of_reviews'].median())\n"
   ]
  },
  {
   "cell_type": "markdown",
   "metadata": {},
   "source": [
    "Como a coluna \"star_rating\" é de importancia no modelo não pode ser excluida apesar de cerca de 40% de seus valores serem nulos, para uma imputação mais acertiva e com menor vies foi utilizado o algortimo de RandomForest para imputar os valores nulos dessa variavel."
   ]
  },
  {
   "cell_type": "code",
   "execution_count": 131,
   "metadata": {},
   "outputs": [
    {
     "name": "stderr",
     "output_type": "stream",
     "text": [
      "C:\\Users\\camil\\anaconda3\\lib\\site-packages\\sklearn\\ensemble\\_forest.py:396: FutureWarning: Criterion 'mse' was deprecated in v1.0 and will be removed in version 1.2. Use `criterion='squared_error'` which is equivalent.\n",
      "  warn(\n"
     ]
    },
    {
     "name": "stdout",
     "output_type": "stream",
     "text": [
      "Iteration: 0\n"
     ]
    },
    {
     "name": "stderr",
     "output_type": "stream",
     "text": [
      "C:\\Users\\camil\\anaconda3\\lib\\site-packages\\sklearn\\ensemble\\_forest.py:396: FutureWarning: Criterion 'mse' was deprecated in v1.0 and will be removed in version 1.2. Use `criterion='squared_error'` which is equivalent.\n",
      "  warn(\n"
     ]
    },
    {
     "name": "stdout",
     "output_type": "stream",
     "text": [
      "Iteration: 1\n"
     ]
    },
    {
     "name": "stderr",
     "output_type": "stream",
     "text": [
      "C:\\Users\\camil\\anaconda3\\lib\\site-packages\\sklearn\\ensemble\\_forest.py:396: FutureWarning: Criterion 'mse' was deprecated in v1.0 and will be removed in version 1.2. Use `criterion='squared_error'` which is equivalent.\n",
      "  warn(\n"
     ]
    },
    {
     "name": "stdout",
     "output_type": "stream",
     "text": [
      "Iteration: 2\n"
     ]
    }
   ],
   "source": [
    "#removendo colunas que não auxiliam na predição\n",
    "df_detalhes2 = df_detalhes\n",
    "df_detalhes2 = df_detalhes2.drop(['ad_name','airbnb_listing_id'], axis=1)\n",
    "\n",
    "#codificando colunas categoricas\n",
    "labelencoder = LabelEncoder()\n",
    "df_detalhes2['suburb'] = labelencoder.fit_transform(df_detalhes2['suburb'])\n",
    "df_detalhes2['is_superhost'] = labelencoder.fit_transform(df_detalhes2['is_superhost'])\n",
    "\n",
    "#convertendo a coluna 'star_rating' para str para que o modelo não faça uma regressão e sim use o classificador\n",
    "df_detalhes2['star_rating'] = df_detalhes2['star_rating'].astype(str)\n",
    "\n",
    "#imputando valores faltantes\n",
    "imputer = MissForest()\n",
    "X_imputed = imputer.fit_transform(df_detalhes2)\n",
    "df_detalhes[\"star_rating\"]= X_imputed"
   ]
  },
  {
   "cell_type": "markdown",
   "metadata": {},
   "source": [
    "Verificou-se então que não restam mais valores nulos nos dados de caracteristicas dos listings:"
   ]
  },
  {
   "cell_type": "code",
   "execution_count": 144,
   "metadata": {},
   "outputs": [
    {
     "data": {
      "text/plain": [
       "airbnb_listing_id      0\n",
       "suburb                 0\n",
       "ad_name                0\n",
       "number_of_bedrooms     0\n",
       "number_of_bathrooms    0\n",
       "star_rating            0\n",
       "is_superhost           0\n",
       "number_of_reviews      0\n",
       "dtype: int64"
      ]
     },
     "execution_count": 144,
     "metadata": {},
     "output_type": "execute_result"
    }
   ],
   "source": [
    "df_detalhes.isnull().sum()"
   ]
  },
  {
   "cell_type": "markdown",
   "metadata": {},
   "source": [
    "Com o tratamento dos dados ja concluido, realizou-se o primeiro item do desafio:\n",
    "\n",
    "\"Ordene os bairros em ordem crescente de número de listings\"\n",
    "\n",
    "Para isso através da função groupby observou-se a relação dos bairros e números de anúncios conforme apresentado."
   ]
  },
  {
   "cell_type": "code",
   "execution_count": 143,
   "metadata": {},
   "outputs": [
    {
     "name": "stdout",
     "output_type": "stream",
     "text": [
      "suburb\n",
      "Canasvieiras          1177\n",
      "Centro                 278\n",
      "Ingleses              2388\n",
      "Jurerê                 539\n",
      "Lagoa da Conceição     309\n",
      "dtype: int64\n"
     ]
    },
    {
     "data": {
      "text/plain": [
       "<AxesSubplot:xlabel='Bairro', ylabel='Número de Listings'>"
      ]
     },
     "execution_count": 143,
     "metadata": {},
     "output_type": "execute_result"
    },
    {
     "data": {
      "image/png": "[encoded data removed]",
      "text/plain": [
       "<Figure size 432x288 with 1 Axes>"
      ]
     },
     "metadata": {
      "needs_background": "light"
     },
     "output_type": "display_data"
    }
   ],
   "source": [
    "bairro_listining = df_detalhes.groupby([\"suburb\"]).size()\n",
    "print(bairro_listining)\n",
    "bairro_listining.plot.bar(color = 'gray', xlabel = \"Bairro\", ylabel = \"Número de Listings\")"
   ]
  },
  {
   "cell_type": "markdown",
   "metadata": {},
   "source": [
    "Pode-se observar que a ordem crescente de número de listing por bairros é: \n",
    "\n",
    "Centro < Lagoa da Conceição < Jurerê < Canasvieiras < Ingleses\n",
    "\n",
    "\n",
    "\n",
    "O segundo do desafio é:\n",
    "\" Ordene os bairros em ordem crescente de faturamento médio dos listings \"\n",
    "\n",
    "Primeiramente nos dados de preço extraimos através da função groupby o id do listing, a ocupação, pois só ocorre faturamento se o imovel tenha sido alugado e a média de preço do anuncio."
   ]
  },
  {
   "cell_type": "code",
   "execution_count": 134,
   "metadata": {},
   "outputs": [
    {
     "data": {
      "text/html": [
       "<div>\n",
       "<style scoped>\n",
       "    .dataframe tbody tr th:only-of-type {\n",
       "        vertical-align: middle;\n",
       "    }\n",
       "\n",
       "    .dataframe tbody tr th {\n",
       "        vertical-align: top;\n",
       "    }\n",
       "\n",
       "    .dataframe thead th {\n",
       "        text-align: right;\n",
       "    }\n",
       "</style>\n",
       "<table border=\"1\" class=\"dataframe\">\n",
       "  <thead>\n",
       "    <tr style=\"text-align: right;\">\n",
       "      <th></th>\n",
       "      <th>airbnb_listing_id</th>\n",
       "      <th>occupied</th>\n",
       "      <th>faturamento_medio</th>\n",
       "    </tr>\n",
       "  </thead>\n",
       "  <tbody>\n",
       "    <tr>\n",
       "      <th>0</th>\n",
       "      <td>108658</td>\n",
       "      <td>0</td>\n",
       "      <td>373.333333</td>\n",
       "    </tr>\n",
       "    <tr>\n",
       "      <th>1</th>\n",
       "      <td>108658</td>\n",
       "      <td>1</td>\n",
       "      <td>366.666667</td>\n",
       "    </tr>\n",
       "    <tr>\n",
       "      <th>2</th>\n",
       "      <td>128631</td>\n",
       "      <td>0</td>\n",
       "      <td>721.707317</td>\n",
       "    </tr>\n",
       "    <tr>\n",
       "      <th>3</th>\n",
       "      <td>128631</td>\n",
       "      <td>1</td>\n",
       "      <td>636.363636</td>\n",
       "    </tr>\n",
       "    <tr>\n",
       "      <th>4</th>\n",
       "      <td>279586</td>\n",
       "      <td>0</td>\n",
       "      <td>243.076923</td>\n",
       "    </tr>\n",
       "  </tbody>\n",
       "</table>\n",
       "</div>"
      ],
      "text/plain": [
       "   airbnb_listing_id  occupied  faturamento_medio\n",
       "0             108658         0         373.333333\n",
       "1             108658         1         366.666667\n",
       "2             128631         0         721.707317\n",
       "3             128631         1         636.363636\n",
       "4             279586         0         243.076923"
      ]
     },
     "execution_count": 134,
     "metadata": {},
     "output_type": "execute_result"
    }
   ],
   "source": [
    "df1 = df_price.groupby(['airbnb_listing_id', 'occupied'])['price_string'].mean()\n",
    "df1 = pd.DataFrame(df1.reset_index(name = \"faturamento_medio\"))\n",
    "df1.head()"
   ]
  },
  {
   "cell_type": "markdown",
   "metadata": {},
   "source": [
    "Nos dados de caracteristicas dos listing relacionamos o id do listing com o bairro"
   ]
  },
  {
   "cell_type": "code",
   "execution_count": 135,
   "metadata": {},
   "outputs": [
    {
     "data": {
      "text/html": [
       "<div>\n",
       "<style scoped>\n",
       "    .dataframe tbody tr th:only-of-type {\n",
       "        vertical-align: middle;\n",
       "    }\n",
       "\n",
       "    .dataframe tbody tr th {\n",
       "        vertical-align: top;\n",
       "    }\n",
       "\n",
       "    .dataframe thead th {\n",
       "        text-align: right;\n",
       "    }\n",
       "</style>\n",
       "<table border=\"1\" class=\"dataframe\">\n",
       "  <thead>\n",
       "    <tr style=\"text-align: right;\">\n",
       "      <th></th>\n",
       "      <th>airbnb_listing_id</th>\n",
       "      <th>bairro</th>\n",
       "    </tr>\n",
       "  </thead>\n",
       "  <tbody>\n",
       "    <tr>\n",
       "      <th>0</th>\n",
       "      <td>108658</td>\n",
       "      <td>Canasvieiras</td>\n",
       "    </tr>\n",
       "    <tr>\n",
       "      <th>1</th>\n",
       "      <td>128631</td>\n",
       "      <td>Ingleses</td>\n",
       "    </tr>\n",
       "    <tr>\n",
       "      <th>2</th>\n",
       "      <td>279586</td>\n",
       "      <td>Canasvieiras</td>\n",
       "    </tr>\n",
       "    <tr>\n",
       "      <th>3</th>\n",
       "      <td>291437</td>\n",
       "      <td>Centro</td>\n",
       "    </tr>\n",
       "    <tr>\n",
       "      <th>4</th>\n",
       "      <td>317970</td>\n",
       "      <td>Ingleses</td>\n",
       "    </tr>\n",
       "  </tbody>\n",
       "</table>\n",
       "</div>"
      ],
      "text/plain": [
       "   airbnb_listing_id        bairro\n",
       "0             108658  Canasvieiras\n",
       "1             128631      Ingleses\n",
       "2             279586  Canasvieiras\n",
       "3             291437        Centro\n",
       "4             317970      Ingleses"
      ]
     },
     "execution_count": 135,
     "metadata": {},
     "output_type": "execute_result"
    }
   ],
   "source": [
    "df2 = df_detalhes.groupby('airbnb_listing_id')['suburb'].sum()\n",
    "df2 = pd.DataFrame(df2.reset_index(name = \"bairro\"))\n",
    "df2.head()"
   ]
  },
  {
   "cell_type": "code",
   "execution_count": 136,
   "metadata": {},
   "outputs": [
    {
     "name": "stdout",
     "output_type": "stream",
     "text": [
      "(7698, 4)\n"
     ]
    },
    {
     "data": {
      "text/html": [
       "<div>\n",
       "<style scoped>\n",
       "    .dataframe tbody tr th:only-of-type {\n",
       "        vertical-align: middle;\n",
       "    }\n",
       "\n",
       "    .dataframe tbody tr th {\n",
       "        vertical-align: top;\n",
       "    }\n",
       "\n",
       "    .dataframe thead th {\n",
       "        text-align: right;\n",
       "    }\n",
       "</style>\n",
       "<table border=\"1\" class=\"dataframe\">\n",
       "  <thead>\n",
       "    <tr style=\"text-align: right;\">\n",
       "      <th></th>\n",
       "      <th>airbnb_listing_id</th>\n",
       "      <th>occupied</th>\n",
       "      <th>faturamento_medio</th>\n",
       "      <th>bairro</th>\n",
       "    </tr>\n",
       "  </thead>\n",
       "  <tbody>\n",
       "    <tr>\n",
       "      <th>0</th>\n",
       "      <td>108658</td>\n",
       "      <td>0.0</td>\n",
       "      <td>373.333333</td>\n",
       "      <td>Canasvieiras</td>\n",
       "    </tr>\n",
       "    <tr>\n",
       "      <th>1</th>\n",
       "      <td>108658</td>\n",
       "      <td>1.0</td>\n",
       "      <td>366.666667</td>\n",
       "      <td>Canasvieiras</td>\n",
       "    </tr>\n",
       "    <tr>\n",
       "      <th>2</th>\n",
       "      <td>128631</td>\n",
       "      <td>0.0</td>\n",
       "      <td>721.707317</td>\n",
       "      <td>Ingleses</td>\n",
       "    </tr>\n",
       "    <tr>\n",
       "      <th>3</th>\n",
       "      <td>128631</td>\n",
       "      <td>1.0</td>\n",
       "      <td>636.363636</td>\n",
       "      <td>Ingleses</td>\n",
       "    </tr>\n",
       "    <tr>\n",
       "      <th>4</th>\n",
       "      <td>279586</td>\n",
       "      <td>0.0</td>\n",
       "      <td>243.076923</td>\n",
       "      <td>Canasvieiras</td>\n",
       "    </tr>\n",
       "  </tbody>\n",
       "</table>\n",
       "</div>"
      ],
      "text/plain": [
       "   airbnb_listing_id  occupied  faturamento_medio        bairro\n",
       "0             108658       0.0         373.333333  Canasvieiras\n",
       "1             108658       1.0         366.666667  Canasvieiras\n",
       "2             128631       0.0         721.707317      Ingleses\n",
       "3             128631       1.0         636.363636      Ingleses\n",
       "4             279586       0.0         243.076923  Canasvieiras"
      ]
     },
     "execution_count": 136,
     "metadata": {},
     "output_type": "execute_result"
    }
   ],
   "source": [
    "df_fat = pd.merge(df1, df2, how = 'outer', on = 'airbnb_listing_id')\n",
    "print(df_fat.shape)\n",
    "df_fat.head()"
   ]
  },
  {
   "cell_type": "markdown",
   "metadata": {},
   "source": [
    "E finalmente unimos as relações através do numero de id do listing e consegumos encontrar faturamento médio dos listings de cada bairro."
   ]
  },
  {
   "cell_type": "code",
   "execution_count": 137,
   "metadata": {},
   "outputs": [
    {
     "name": "stdout",
     "output_type": "stream",
     "text": [
      "               bairro  occupied  faturamento_medio\n",
      "1        Canasvieiras       1.0         307.952131\n",
      "3              Centro       1.0         244.397553\n",
      "5            Ingleses       1.0         373.481457\n",
      "7              Jurerê       1.0         434.282142\n",
      "9  Lagoa da Conceição       1.0         265.375229\n"
     ]
    },
    {
     "data": {
      "text/plain": [
       "<AxesSubplot:xlabel='Bairro', ylabel='Faturamento Médio'>"
      ]
     },
     "execution_count": 137,
     "metadata": {},
     "output_type": "execute_result"
    },
    {
     "data": {
      "image/png": "[encoded data removed]",
      "text/plain": [
       "<Figure size 432x288 with 1 Axes>"
      ]
     },
     "metadata": {
      "needs_background": "light"
     },
     "output_type": "display_data"
    }
   ],
   "source": [
    "bairro_faturamento = df_fat.groupby(['bairro', 'occupied'])['faturamento_medio'].mean()\n",
    "bairro_faturamento = pd.DataFrame(bairro_faturamento.reset_index(name = \"faturamento_medio\"))\n",
    "bairro_faturamento = bairro_faturamento[bairro_faturamento[\"occupied\"] == 1 ]\n",
    "print(bairro_faturamento)\n",
    "bairro_faturamento.plot.bar(x = \"bairro\", y = \"faturamento_medio\", color = 'gray', legend = False, ylabel = \"Faturamento Médio\", xlabel = \"Bairro\")"
   ]
  },
  {
   "cell_type": "markdown",
   "metadata": {},
   "source": [
    "Pode-se observar então que a ordem crescente dos bairros por faturamento é:\n",
    "\n",
    "Centro < Lagoa da Conceição < Canasvieiras < Ingleses < Jurerê"
   ]
  },
  {
   "cell_type": "markdown",
   "metadata": {},
   "source": [
    "O terceiro item do desafio é:\n",
    "\n",
    "\"Existem correlações entre as características de um anúncio e seu faturamento? Quais? Explique\"\n",
    "\n",
    "Primeiramente selecionou-se apenas as linhas dos dados em que houve a ocupação e consequentemente faturamento."
   ]
  },
  {
   "cell_type": "code",
   "execution_count": 151,
   "metadata": {},
   "outputs": [
    {
     "data": {
      "text/html": [
       "<div>\n",
       "<style scoped>\n",
       "    .dataframe tbody tr th:only-of-type {\n",
       "        vertical-align: middle;\n",
       "    }\n",
       "\n",
       "    .dataframe tbody tr th {\n",
       "        vertical-align: top;\n",
       "    }\n",
       "\n",
       "    .dataframe thead th {\n",
       "        text-align: right;\n",
       "    }\n",
       "</style>\n",
       "<table border=\"1\" class=\"dataframe\">\n",
       "  <thead>\n",
       "    <tr style=\"text-align: right;\">\n",
       "      <th></th>\n",
       "      <th>airbnb_listing_id</th>\n",
       "      <th>booked_on</th>\n",
       "      <th>date</th>\n",
       "      <th>price_string</th>\n",
       "      <th>occupied</th>\n",
       "    </tr>\n",
       "  </thead>\n",
       "  <tbody>\n",
       "    <tr>\n",
       "      <th>12</th>\n",
       "      <td>40206270</td>\n",
       "      <td>2021-01-01 00:00:00</td>\n",
       "      <td>2021-01-01</td>\n",
       "      <td>380.0</td>\n",
       "      <td>1</td>\n",
       "    </tr>\n",
       "    <tr>\n",
       "      <th>13</th>\n",
       "      <td>40206270</td>\n",
       "      <td>2021-01-01 00:00:00</td>\n",
       "      <td>2021-01-02</td>\n",
       "      <td>380.0</td>\n",
       "      <td>1</td>\n",
       "    </tr>\n",
       "    <tr>\n",
       "      <th>52</th>\n",
       "      <td>40206270</td>\n",
       "      <td>2021-02-10 00:00:00</td>\n",
       "      <td>2021-02-10</td>\n",
       "      <td>195.0</td>\n",
       "      <td>1</td>\n",
       "    </tr>\n",
       "    <tr>\n",
       "      <th>53</th>\n",
       "      <td>40206270</td>\n",
       "      <td>2021-02-10 00:00:00</td>\n",
       "      <td>2021-02-11</td>\n",
       "      <td>350.0</td>\n",
       "      <td>1</td>\n",
       "    </tr>\n",
       "    <tr>\n",
       "      <th>54</th>\n",
       "      <td>40206270</td>\n",
       "      <td>2021-02-10 00:00:00</td>\n",
       "      <td>2021-02-12</td>\n",
       "      <td>350.0</td>\n",
       "      <td>1</td>\n",
       "    </tr>\n",
       "  </tbody>\n",
       "</table>\n",
       "</div>"
      ],
      "text/plain": [
       "    airbnb_listing_id            booked_on        date  price_string  occupied\n",
       "12           40206270  2021-01-01 00:00:00  2021-01-01         380.0         1\n",
       "13           40206270  2021-01-01 00:00:00  2021-01-02         380.0         1\n",
       "52           40206270  2021-02-10 00:00:00  2021-02-10         195.0         1\n",
       "53           40206270  2021-02-10 00:00:00  2021-02-11         350.0         1\n",
       "54           40206270  2021-02-10 00:00:00  2021-02-12         350.0         1"
      ]
     },
     "execution_count": 151,
     "metadata": {},
     "output_type": "execute_result"
    }
   ],
   "source": [
    "df_price= df_price[df_price['occupied'] == 1]\n",
    "\n",
    "df_price.head()\n"
   ]
  },
  {
   "cell_type": "markdown",
   "metadata": {},
   "source": [
    "Agrupou-se o id do listing pelo seu faturamento"
   ]
  },
  {
   "cell_type": "code",
   "execution_count": 152,
   "metadata": {},
   "outputs": [
    {
     "data": {
      "text/html": [
       "<div>\n",
       "<style scoped>\n",
       "    .dataframe tbody tr th:only-of-type {\n",
       "        vertical-align: middle;\n",
       "    }\n",
       "\n",
       "    .dataframe tbody tr th {\n",
       "        vertical-align: top;\n",
       "    }\n",
       "\n",
       "    .dataframe thead th {\n",
       "        text-align: right;\n",
       "    }\n",
       "</style>\n",
       "<table border=\"1\" class=\"dataframe\">\n",
       "  <thead>\n",
       "    <tr style=\"text-align: right;\">\n",
       "      <th></th>\n",
       "      <th>airbnb_listing_id</th>\n",
       "      <th>faturamento</th>\n",
       "    </tr>\n",
       "  </thead>\n",
       "  <tbody>\n",
       "    <tr>\n",
       "      <th>0</th>\n",
       "      <td>108658</td>\n",
       "      <td>20900.0</td>\n",
       "    </tr>\n",
       "    <tr>\n",
       "      <th>1</th>\n",
       "      <td>128631</td>\n",
       "      <td>28000.0</td>\n",
       "    </tr>\n",
       "    <tr>\n",
       "      <th>2</th>\n",
       "      <td>279586</td>\n",
       "      <td>3190.0</td>\n",
       "    </tr>\n",
       "    <tr>\n",
       "      <th>3</th>\n",
       "      <td>317970</td>\n",
       "      <td>3112.0</td>\n",
       "    </tr>\n",
       "    <tr>\n",
       "      <th>4</th>\n",
       "      <td>333619</td>\n",
       "      <td>12076.0</td>\n",
       "    </tr>\n",
       "  </tbody>\n",
       "</table>\n",
       "</div>"
      ],
      "text/plain": [
       "   airbnb_listing_id  faturamento\n",
       "0             108658      20900.0\n",
       "1             128631      28000.0\n",
       "2             279586       3190.0\n",
       "3             317970       3112.0\n",
       "4             333619      12076.0"
      ]
     },
     "execution_count": 152,
     "metadata": {},
     "output_type": "execute_result"
    }
   ],
   "source": [
    "faturamento = df_price.groupby('airbnb_listing_id')['price_string'].sum()\n",
    "\n",
    "faturamento = pd.DataFrame(faturamento.reset_index(name = \"faturamento\"))\n",
    "faturamento.head()"
   ]
  },
  {
   "cell_type": "markdown",
   "metadata": {},
   "source": [
    "Uniu-se as informações do conjuto de dados de carcteristicas dos listings (df_detalhes) com o faturamento através do id do anuncio.\n",
    "\n",
    "O faturamento dos id dos listings que não arrecadaram foram preenchidos por 0 para não constar como valores nulos."
   ]
  },
  {
   "cell_type": "code",
   "execution_count": 153,
   "metadata": {},
   "outputs": [
    {
     "name": "stdout",
     "output_type": "stream",
     "text": [
      "(4691, 9)\n"
     ]
    },
    {
     "data": {
      "text/html": [
       "<div>\n",
       "<style scoped>\n",
       "    .dataframe tbody tr th:only-of-type {\n",
       "        vertical-align: middle;\n",
       "    }\n",
       "\n",
       "    .dataframe tbody tr th {\n",
       "        vertical-align: top;\n",
       "    }\n",
       "\n",
       "    .dataframe thead th {\n",
       "        text-align: right;\n",
       "    }\n",
       "</style>\n",
       "<table border=\"1\" class=\"dataframe\">\n",
       "  <thead>\n",
       "    <tr style=\"text-align: right;\">\n",
       "      <th></th>\n",
       "      <th>airbnb_listing_id</th>\n",
       "      <th>suburb</th>\n",
       "      <th>ad_name</th>\n",
       "      <th>number_of_bedrooms</th>\n",
       "      <th>number_of_bathrooms</th>\n",
       "      <th>star_rating</th>\n",
       "      <th>is_superhost</th>\n",
       "      <th>number_of_reviews</th>\n",
       "      <th>faturamento</th>\n",
       "    </tr>\n",
       "  </thead>\n",
       "  <tbody>\n",
       "    <tr>\n",
       "      <th>0</th>\n",
       "      <td>31389869</td>\n",
       "      <td>Jurerê</td>\n",
       "      <td>Lindo Apartamento em Jurerê</td>\n",
       "      <td>2.0</td>\n",
       "      <td>2.0</td>\n",
       "      <td>3.0</td>\n",
       "      <td>False</td>\n",
       "      <td>15.0</td>\n",
       "      <td>6400.0</td>\n",
       "    </tr>\n",
       "    <tr>\n",
       "      <th>1</th>\n",
       "      <td>40010667</td>\n",
       "      <td>Canasvieiras</td>\n",
       "      <td>Residencial Arruda, 1 quarto</td>\n",
       "      <td>1.0</td>\n",
       "      <td>1.0</td>\n",
       "      <td>0.0</td>\n",
       "      <td>False</td>\n",
       "      <td>0.0</td>\n",
       "      <td>8640.0</td>\n",
       "    </tr>\n",
       "    <tr>\n",
       "      <th>2</th>\n",
       "      <td>38905997</td>\n",
       "      <td>Ingleses</td>\n",
       "      <td>Apartamento NOVO Completo - Moderno e Sofisticado</td>\n",
       "      <td>1.0</td>\n",
       "      <td>1.0</td>\n",
       "      <td>2.0</td>\n",
       "      <td>True</td>\n",
       "      <td>13.0</td>\n",
       "      <td>8078.0</td>\n",
       "    </tr>\n",
       "    <tr>\n",
       "      <th>3</th>\n",
       "      <td>22343656</td>\n",
       "      <td>Ingleses</td>\n",
       "      <td>06- Apartamento 02 habitaciones</td>\n",
       "      <td>2.0</td>\n",
       "      <td>1.0</td>\n",
       "      <td>2.0</td>\n",
       "      <td>True</td>\n",
       "      <td>28.0</td>\n",
       "      <td>0.0</td>\n",
       "    </tr>\n",
       "    <tr>\n",
       "      <th>4</th>\n",
       "      <td>18328184</td>\n",
       "      <td>Canasvieiras</td>\n",
       "      <td>Apto 2 quartos em Canasvieiras, Florianopolis!</td>\n",
       "      <td>2.0</td>\n",
       "      <td>1.0</td>\n",
       "      <td>0.0</td>\n",
       "      <td>True</td>\n",
       "      <td>35.0</td>\n",
       "      <td>14810.0</td>\n",
       "    </tr>\n",
       "  </tbody>\n",
       "</table>\n",
       "</div>"
      ],
      "text/plain": [
       "   airbnb_listing_id        suburb  \\\n",
       "0           31389869        Jurerê   \n",
       "1           40010667  Canasvieiras   \n",
       "2           38905997      Ingleses   \n",
       "3           22343656      Ingleses   \n",
       "4           18328184  Canasvieiras   \n",
       "\n",
       "                                             ad_name  number_of_bedrooms  \\\n",
       "0                        Lindo Apartamento em Jurerê                 2.0   \n",
       "1                       Residencial Arruda, 1 quarto                 1.0   \n",
       "2  Apartamento NOVO Completo - Moderno e Sofisticado                 1.0   \n",
       "3                    06- Apartamento 02 habitaciones                 2.0   \n",
       "4     Apto 2 quartos em Canasvieiras, Florianopolis!                 2.0   \n",
       "\n",
       "   number_of_bathrooms  star_rating  is_superhost  number_of_reviews  \\\n",
       "0                  2.0          3.0         False               15.0   \n",
       "1                  1.0          0.0         False                0.0   \n",
       "2                  1.0          2.0          True               13.0   \n",
       "3                  1.0          2.0          True               28.0   \n",
       "4                  1.0          0.0          True               35.0   \n",
       "\n",
       "   faturamento  \n",
       "0       6400.0  \n",
       "1       8640.0  \n",
       "2       8078.0  \n",
       "3          0.0  \n",
       "4      14810.0  "
      ]
     },
     "execution_count": 153,
     "metadata": {},
     "output_type": "execute_result"
    }
   ],
   "source": [
    "df_faturamento = pd.merge(df_detalhes, faturamento, how = 'outer', on = 'airbnb_listing_id')\n",
    "print(df_faturamento.shape)\n",
    "\n",
    "#Preenchendo valores nulos de Id que não faturaram por 0\n",
    "df_faturamento['faturamento'] = df_faturamento['faturamento'].fillna(0)\n",
    "\n",
    "#visualizando\n",
    "df_faturamento.head()"
   ]
  },
  {
   "cell_type": "markdown",
   "metadata": {},
   "source": [
    "Calculou-se a correlação.\n",
    "\n",
    "Primeiramente foi verificada a correlação de Pearson:"
   ]
  },
  {
   "cell_type": "code",
   "execution_count": 154,
   "metadata": {},
   "outputs": [
    {
     "name": "stdout",
     "output_type": "stream",
     "text": [
      "airbnb_listing_id      0.049163\n",
      "number_of_bedrooms     0.121459\n",
      "number_of_bathrooms    0.139180\n",
      "star_rating            0.051157\n",
      "is_superhost           0.097429\n",
      "number_of_reviews      0.137211\n",
      "faturamento            1.000000\n",
      "Name: faturamento, dtype: float64\n"
     ]
    }
   ],
   "source": [
    "#correlação de pearson\n",
    "correlation = df_faturamento.corr()\n",
    "print(correlation['faturamento'])"
   ]
  },
  {
   "cell_type": "code",
   "execution_count": 155,
   "metadata": {},
   "outputs": [
    {
     "data": {
      "text/plain": [
       "<AxesSubplot:>"
      ]
     },
     "execution_count": 155,
     "metadata": {},
     "output_type": "execute_result"
    },
    {
     "data": {
      "image/png": "[encoded data removed]",
      "text/plain": [
       "<Figure size 432x288 with 2 Axes>"
      ]
     },
     "metadata": {
      "needs_background": "light"
     },
     "output_type": "display_data"
    }
   ],
   "source": [
    "plot = srn.heatmap(correlation, annot = True, fmt=\".1f\", linewidths=.8)\n",
    "plot"
   ]
  },
  {
   "cell_type": "markdown",
   "metadata": {},
   "source": [
    "Contatou-se que há correlações positivas bem fracas entre o faturamento e o número de banheiros, número de quartos e número de comentários (correlação de Pearson de aproximadamente 0.1) essas correlações significam que cerca 1% da variação do faturamento pode ser explicada por essas variáveis, sendo ainda que o impacto causado é positivo no sentido de aumentar o faturamento. As variáveis nota do anúncio e superhost tem coeficiente inferior a 0.1, sendo então, considerados desprezíveis pela maioria dos autores. É importante salientar que alguns autores sugerem que as correlações fracas são acima de 0.3 e não de 0.1. Assim, o julgamento deve ser realizado pelo analista que pode calcular um valor de p para auxilia-lo na decisão a um nível de significância e verificar se o coeficiente é significativo ou não. "
   ]
  },
  {
   "cell_type": "markdown",
   "metadata": {},
   "source": [
    "O coeficiente de correlação de Pearson mede a correlação linear entre as variáveis, a fim de se verificar se há uma correlação não linear também calculou-se o coeficiente de correlação de Spearman "
   ]
  },
  {
   "cell_type": "code",
   "execution_count": 156,
   "metadata": {},
   "outputs": [
    {
     "name": "stdout",
     "output_type": "stream",
     "text": [
      "airbnb_listing_id      0.033166\n",
      "number_of_bedrooms     0.055547\n",
      "number_of_bathrooms    0.087224\n",
      "star_rating            0.032183\n",
      "is_superhost           0.098333\n",
      "number_of_reviews      0.157268\n",
      "faturamento            1.000000\n",
      "Name: faturamento, dtype: float64\n"
     ]
    }
   ],
   "source": [
    "#correlação de sperman\n",
    "correlation = df_faturamento.corr(method = 'spearman')\n",
    "print(correlation['faturamento'])"
   ]
  },
  {
   "cell_type": "code",
   "execution_count": 157,
   "metadata": {},
   "outputs": [
    {
     "data": {
      "text/plain": [
       "<AxesSubplot:>"
      ]
     },
     "execution_count": 157,
     "metadata": {},
     "output_type": "execute_result"
    },
    {
     "data": {
      "image/png": "[encoded data removed]",
      "text/plain": [
       "<Figure size 432x288 with 2 Axes>"
      ]
     },
     "metadata": {
      "needs_background": "light"
     },
     "output_type": "display_data"
    }
   ],
   "source": [
    "plot = srn.heatmap(correlation, annot = True, fmt=\".1f\", linewidths=.8)\n",
    "plot"
   ]
  },
  {
   "cell_type": "markdown",
   "metadata": {},
   "source": [
    "Conforme observado os valores não diferem muito do coeficiente de Pearson, possuindo correlações desprezíveis ou bem fracas.\n",
    "\n",
    "Dessa forma, deve-se buscar outras variáveis que possam ter maior correlação com o faturamento afim de descobrir possíveis formas de maximiza-lo. As variáveis categóricas não dicotômicas bairros e título não são passiveis de aplicação de correlação, porém elas podem influenciar o faturamento, outra forma de associação deve ser utilizada, uma das formas mais comuns é aplicar um teste de associação chamado de teste do qui-quadrado que poderia ser utilizado para avaliar a influência dos barros por exemplo."
   ]
  },
  {
   "cell_type": "markdown",
   "metadata": {},
   "source": [
    "O ultimo item do desafio é: \n",
    " \"Qual a antecedência média das reservas?\n",
    "a. Esse número é maior ou menor para finais de semana?\"\n",
    "\n",
    "Primeiramente converteu-se as colunas 'booked_on' e 'date' para o formato datatime:"
   ]
  },
  {
   "cell_type": "code",
   "execution_count": 158,
   "metadata": {},
   "outputs": [],
   "source": [
    "df_price['booked_on'] = pd.to_datetime(df_price['booked_on'])\n",
    "df_price['date'] = pd.to_datetime(df_price['date'])"
   ]
  },
  {
   "cell_type": "code",
   "execution_count": 159,
   "metadata": {},
   "outputs": [
    {
     "name": "stdout",
     "output_type": "stream",
     "text": [
      "<class 'pandas.core.frame.DataFrame'>\n",
      "Int64Index: 112142 entries, 12 to 289918\n",
      "Data columns (total 5 columns):\n",
      " #   Column             Non-Null Count   Dtype         \n",
      "---  ------             --------------   -----         \n",
      " 0   airbnb_listing_id  112142 non-null  int64         \n",
      " 1   booked_on          112142 non-null  datetime64[ns]\n",
      " 2   date               112142 non-null  datetime64[ns]\n",
      " 3   price_string       112142 non-null  float64       \n",
      " 4   occupied           112142 non-null  int64         \n",
      "dtypes: datetime64[ns](2), float64(1), int64(2)\n",
      "memory usage: 5.1 MB\n"
     ]
    }
   ],
   "source": [
    "df_price.info()"
   ]
  },
  {
   "cell_type": "markdown",
   "metadata": {},
   "source": [
    "Criou-se a coluna antecendencia que mede a quantidade de dias anteior a data de ocupação que o imovel foi alugado."
   ]
  },
  {
   "cell_type": "code",
   "execution_count": 160,
   "metadata": {},
   "outputs": [
    {
     "data": {
      "text/html": [
       "<div>\n",
       "<style scoped>\n",
       "    .dataframe tbody tr th:only-of-type {\n",
       "        vertical-align: middle;\n",
       "    }\n",
       "\n",
       "    .dataframe tbody tr th {\n",
       "        vertical-align: top;\n",
       "    }\n",
       "\n",
       "    .dataframe thead th {\n",
       "        text-align: right;\n",
       "    }\n",
       "</style>\n",
       "<table border=\"1\" class=\"dataframe\">\n",
       "  <thead>\n",
       "    <tr style=\"text-align: right;\">\n",
       "      <th></th>\n",
       "      <th>airbnb_listing_id</th>\n",
       "      <th>booked_on</th>\n",
       "      <th>date</th>\n",
       "      <th>price_string</th>\n",
       "      <th>occupied</th>\n",
       "      <th>antecedencia</th>\n",
       "    </tr>\n",
       "  </thead>\n",
       "  <tbody>\n",
       "    <tr>\n",
       "      <th>12</th>\n",
       "      <td>40206270</td>\n",
       "      <td>2021-01-01</td>\n",
       "      <td>2021-01-01</td>\n",
       "      <td>380.0</td>\n",
       "      <td>1</td>\n",
       "      <td>0</td>\n",
       "    </tr>\n",
       "    <tr>\n",
       "      <th>13</th>\n",
       "      <td>40206270</td>\n",
       "      <td>2021-01-01</td>\n",
       "      <td>2021-01-02</td>\n",
       "      <td>380.0</td>\n",
       "      <td>1</td>\n",
       "      <td>1</td>\n",
       "    </tr>\n",
       "    <tr>\n",
       "      <th>52</th>\n",
       "      <td>40206270</td>\n",
       "      <td>2021-02-10</td>\n",
       "      <td>2021-02-10</td>\n",
       "      <td>195.0</td>\n",
       "      <td>1</td>\n",
       "      <td>0</td>\n",
       "    </tr>\n",
       "    <tr>\n",
       "      <th>53</th>\n",
       "      <td>40206270</td>\n",
       "      <td>2021-02-10</td>\n",
       "      <td>2021-02-11</td>\n",
       "      <td>350.0</td>\n",
       "      <td>1</td>\n",
       "      <td>1</td>\n",
       "    </tr>\n",
       "    <tr>\n",
       "      <th>54</th>\n",
       "      <td>40206270</td>\n",
       "      <td>2021-02-10</td>\n",
       "      <td>2021-02-12</td>\n",
       "      <td>350.0</td>\n",
       "      <td>1</td>\n",
       "      <td>2</td>\n",
       "    </tr>\n",
       "  </tbody>\n",
       "</table>\n",
       "</div>"
      ],
      "text/plain": [
       "    airbnb_listing_id  booked_on       date  price_string  occupied  \\\n",
       "12           40206270 2021-01-01 2021-01-01         380.0         1   \n",
       "13           40206270 2021-01-01 2021-01-02         380.0         1   \n",
       "52           40206270 2021-02-10 2021-02-10         195.0         1   \n",
       "53           40206270 2021-02-10 2021-02-11         350.0         1   \n",
       "54           40206270 2021-02-10 2021-02-12         350.0         1   \n",
       "\n",
       "    antecedencia  \n",
       "12             0  \n",
       "13             1  \n",
       "52             0  \n",
       "53             1  \n",
       "54             2  "
      ]
     },
     "execution_count": 160,
     "metadata": {},
     "output_type": "execute_result"
    }
   ],
   "source": [
    "df_price['antecedencia']= abs((df_price['booked_on'] - df_price['date']).dt.days)\n",
    "df_price.head()"
   ]
  },
  {
   "cell_type": "markdown",
   "metadata": {},
   "source": [
    "Calculamos o valor médio da antecedencia conforme apresentado abaixo, podemos visualizar que a antecedencia média de foi 37.95 aproximadamente."
   ]
  },
  {
   "cell_type": "code",
   "execution_count": 161,
   "metadata": {},
   "outputs": [
    {
     "name": "stdout",
     "output_type": "stream",
     "text": [
      "A antecedência média é:37.95\n"
     ]
    }
   ],
   "source": [
    "#visualizando a média\n",
    "print(f'A antecedência média é:{round(df_price[\"antecedencia\"].mean(),2)}')"
   ]
  },
  {
   "cell_type": "markdown",
   "metadata": {},
   "source": [
    "Observou-se também a antecedênca média para alugar datas para o fim de semana, para isso, criou-se a coluna \"dia_semana\" para computar o dia da semana de \"date\" e assim selecionou-se os dias correspondetes a fins de semana e calculou-se a média de antecedencia."
   ]
  },
  {
   "cell_type": "code",
   "execution_count": 162,
   "metadata": {},
   "outputs": [
    {
     "data": {
      "text/html": [
       "<div>\n",
       "<style scoped>\n",
       "    .dataframe tbody tr th:only-of-type {\n",
       "        vertical-align: middle;\n",
       "    }\n",
       "\n",
       "    .dataframe tbody tr th {\n",
       "        vertical-align: top;\n",
       "    }\n",
       "\n",
       "    .dataframe thead th {\n",
       "        text-align: right;\n",
       "    }\n",
       "</style>\n",
       "<table border=\"1\" class=\"dataframe\">\n",
       "  <thead>\n",
       "    <tr style=\"text-align: right;\">\n",
       "      <th></th>\n",
       "      <th>airbnb_listing_id</th>\n",
       "      <th>booked_on</th>\n",
       "      <th>date</th>\n",
       "      <th>price_string</th>\n",
       "      <th>occupied</th>\n",
       "      <th>antecedencia</th>\n",
       "      <th>dia_semana</th>\n",
       "    </tr>\n",
       "  </thead>\n",
       "  <tbody>\n",
       "    <tr>\n",
       "      <th>12</th>\n",
       "      <td>40206270</td>\n",
       "      <td>2021-01-01</td>\n",
       "      <td>2021-01-01</td>\n",
       "      <td>380.0</td>\n",
       "      <td>1</td>\n",
       "      <td>0</td>\n",
       "      <td>Friday</td>\n",
       "    </tr>\n",
       "    <tr>\n",
       "      <th>13</th>\n",
       "      <td>40206270</td>\n",
       "      <td>2021-01-01</td>\n",
       "      <td>2021-01-02</td>\n",
       "      <td>380.0</td>\n",
       "      <td>1</td>\n",
       "      <td>1</td>\n",
       "      <td>Saturday</td>\n",
       "    </tr>\n",
       "    <tr>\n",
       "      <th>52</th>\n",
       "      <td>40206270</td>\n",
       "      <td>2021-02-10</td>\n",
       "      <td>2021-02-10</td>\n",
       "      <td>195.0</td>\n",
       "      <td>1</td>\n",
       "      <td>0</td>\n",
       "      <td>Wednesday</td>\n",
       "    </tr>\n",
       "    <tr>\n",
       "      <th>53</th>\n",
       "      <td>40206270</td>\n",
       "      <td>2021-02-10</td>\n",
       "      <td>2021-02-11</td>\n",
       "      <td>350.0</td>\n",
       "      <td>1</td>\n",
       "      <td>1</td>\n",
       "      <td>Thursday</td>\n",
       "    </tr>\n",
       "    <tr>\n",
       "      <th>54</th>\n",
       "      <td>40206270</td>\n",
       "      <td>2021-02-10</td>\n",
       "      <td>2021-02-12</td>\n",
       "      <td>350.0</td>\n",
       "      <td>1</td>\n",
       "      <td>2</td>\n",
       "      <td>Friday</td>\n",
       "    </tr>\n",
       "  </tbody>\n",
       "</table>\n",
       "</div>"
      ],
      "text/plain": [
       "    airbnb_listing_id  booked_on       date  price_string  occupied  \\\n",
       "12           40206270 2021-01-01 2021-01-01         380.0         1   \n",
       "13           40206270 2021-01-01 2021-01-02         380.0         1   \n",
       "52           40206270 2021-02-10 2021-02-10         195.0         1   \n",
       "53           40206270 2021-02-10 2021-02-11         350.0         1   \n",
       "54           40206270 2021-02-10 2021-02-12         350.0         1   \n",
       "\n",
       "    antecedencia dia_semana  \n",
       "12             0     Friday  \n",
       "13             1   Saturday  \n",
       "52             0  Wednesday  \n",
       "53             1   Thursday  \n",
       "54             2     Friday  "
      ]
     },
     "execution_count": 162,
     "metadata": {},
     "output_type": "execute_result"
    }
   ],
   "source": [
    "#criando coluna dia_semana\n",
    "df_price['dia_semana'] = df_price['date'].dt.strftime('%A')\n",
    "df_price.head()"
   ]
  },
  {
   "cell_type": "code",
   "execution_count": 163,
   "metadata": {},
   "outputs": [
    {
     "data": {
      "text/plain": [
       "dia_semana\n",
       "Friday       16273\n",
       "Monday       16236\n",
       "Saturday     17107\n",
       "Sunday       15897\n",
       "Thursday     15351\n",
       "Tuesday      16151\n",
       "Wednesday    15127\n",
       "dtype: int64"
      ]
     },
     "execution_count": 163,
     "metadata": {},
     "output_type": "execute_result"
    }
   ],
   "source": [
    "#visualizando os dias da semana e a quantidade de ocupações em cada um deles\n",
    "df_price.groupby('dia_semana').size()\n"
   ]
  },
  {
   "cell_type": "code",
   "execution_count": 164,
   "metadata": {},
   "outputs": [
    {
     "data": {
      "text/html": [
       "<div>\n",
       "<style scoped>\n",
       "    .dataframe tbody tr th:only-of-type {\n",
       "        vertical-align: middle;\n",
       "    }\n",
       "\n",
       "    .dataframe tbody tr th {\n",
       "        vertical-align: top;\n",
       "    }\n",
       "\n",
       "    .dataframe thead th {\n",
       "        text-align: right;\n",
       "    }\n",
       "</style>\n",
       "<table border=\"1\" class=\"dataframe\">\n",
       "  <thead>\n",
       "    <tr style=\"text-align: right;\">\n",
       "      <th></th>\n",
       "      <th>airbnb_listing_id</th>\n",
       "      <th>booked_on</th>\n",
       "      <th>date</th>\n",
       "      <th>price_string</th>\n",
       "      <th>occupied</th>\n",
       "      <th>antecedencia</th>\n",
       "      <th>dia_semana</th>\n",
       "    </tr>\n",
       "  </thead>\n",
       "  <tbody>\n",
       "    <tr>\n",
       "      <th>13</th>\n",
       "      <td>40206270</td>\n",
       "      <td>2021-01-01</td>\n",
       "      <td>2021-01-02</td>\n",
       "      <td>380.0</td>\n",
       "      <td>1</td>\n",
       "      <td>1</td>\n",
       "      <td>Saturday</td>\n",
       "    </tr>\n",
       "    <tr>\n",
       "      <th>56</th>\n",
       "      <td>40206270</td>\n",
       "      <td>2021-02-10</td>\n",
       "      <td>2021-02-13</td>\n",
       "      <td>350.0</td>\n",
       "      <td>1</td>\n",
       "      <td>3</td>\n",
       "      <td>Saturday</td>\n",
       "    </tr>\n",
       "    <tr>\n",
       "      <th>58</th>\n",
       "      <td>40206270</td>\n",
       "      <td>2021-02-10</td>\n",
       "      <td>2021-02-14</td>\n",
       "      <td>350.0</td>\n",
       "      <td>1</td>\n",
       "      <td>4</td>\n",
       "      <td>Sunday</td>\n",
       "    </tr>\n",
       "    <tr>\n",
       "      <th>65</th>\n",
       "      <td>40206270</td>\n",
       "      <td>2021-02-10</td>\n",
       "      <td>2021-02-20</td>\n",
       "      <td>195.0</td>\n",
       "      <td>1</td>\n",
       "      <td>10</td>\n",
       "      <td>Saturday</td>\n",
       "    </tr>\n",
       "    <tr>\n",
       "      <th>66</th>\n",
       "      <td>40206270</td>\n",
       "      <td>2021-02-10</td>\n",
       "      <td>2021-02-21</td>\n",
       "      <td>195.0</td>\n",
       "      <td>1</td>\n",
       "      <td>11</td>\n",
       "      <td>Sunday</td>\n",
       "    </tr>\n",
       "  </tbody>\n",
       "</table>\n",
       "</div>"
      ],
      "text/plain": [
       "    airbnb_listing_id  booked_on       date  price_string  occupied  \\\n",
       "13           40206270 2021-01-01 2021-01-02         380.0         1   \n",
       "56           40206270 2021-02-10 2021-02-13         350.0         1   \n",
       "58           40206270 2021-02-10 2021-02-14         350.0         1   \n",
       "65           40206270 2021-02-10 2021-02-20         195.0         1   \n",
       "66           40206270 2021-02-10 2021-02-21         195.0         1   \n",
       "\n",
       "    antecedencia dia_semana  \n",
       "13             1   Saturday  \n",
       "56             3   Saturday  \n",
       "58             4     Sunday  \n",
       "65            10   Saturday  \n",
       "66            11     Sunday  "
      ]
     },
     "execution_count": 164,
     "metadata": {},
     "output_type": "execute_result"
    }
   ],
   "source": [
    "#selecionando os finais de semana\n",
    "df_price = df_price[df_price['dia_semana'].str.contains(\"S\")]\n",
    "df_price.head()"
   ]
  },
  {
   "cell_type": "code",
   "execution_count": 165,
   "metadata": {},
   "outputs": [
    {
     "data": {
      "text/plain": [
       "dia_semana\n",
       "Saturday    17107\n",
       "Sunday      15897\n",
       "dtype: int64"
      ]
     },
     "execution_count": 165,
     "metadata": {},
     "output_type": "execute_result"
    }
   ],
   "source": [
    "#visualizando os dias da semana que foram selecionados e a quantidade de ocupações em cada um deles\n",
    "df_price.groupby('dia_semana').size()"
   ]
  },
  {
   "cell_type": "code",
   "execution_count": 166,
   "metadata": {},
   "outputs": [
    {
     "name": "stdout",
     "output_type": "stream",
     "text": [
      "A antecedência média para finais de semana é:37.41\n"
     ]
    }
   ],
   "source": [
    "#calculando média de antecedência\n",
    "\n",
    "print(f'A antecedência média para finais de semana é:{round(df_price[\"antecedencia\"].mean(),2)}')"
   ]
  },
  {
   "cell_type": "markdown",
   "metadata": {},
   "source": [
    "Assim, observou-se que a média de antecedencia para o fim de semana é menor cerca de 37.41, mas a diferença é tão pequena que pode ser considerada desprezivel."
   ]
  },
  {
   "cell_type": "markdown",
   "metadata": {},
   "source": [
    "Observação = Os valores nulos foram preenchidos, caso esta não seja a ideia do desafio essa celula pode ser ignorada e o codigo rodado normalmente."
   ]
  },
  {
   "cell_type": "markdown",
   "metadata": {},
   "source": [
    "Feedback:\n",
    "\n",
    "Achei bem interessante o desafio e com certeza aprendi muitas coisas novas como por exemplo extrair o dia da semana de uma variavel datatime. Gostei muito do desafio e espero ter tido um bom desempenho. Abraço a todos equipe Seazone."
   ]
  }
 ],
 "metadata": {
  "kernelspec": {
   "display_name": "Python 3 (ipykernel)",
   "language": "python",
   "name": "python3"
  },
  "language_info": {
   "codemirror_mode": {
    "name": "ipython",
    "version": 3
   },
   "file_extension": ".py",
   "mimetype": "text/x-python",
   "name": "python",
   "nbconvert_exporter": "python",
   "pygments_lexer": "ipython3",
   "version": "3.8.12"
  }
 },
 "nbformat": 4,
 "nbformat_minor": 4
}
