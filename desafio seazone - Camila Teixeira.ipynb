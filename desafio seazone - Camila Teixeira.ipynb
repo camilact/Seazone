{
 "cells": [
  {
   "cell_type": "markdown",
   "metadata": {},
   "source": [
    "### Desafio Seazone\n",
    "\n",
    "#### Feito por Camila Cristina Teixeira \n",
    "\n",
    "Olá,\n",
    "\n",
    "Neste arquivo eu apresento minha solução para o desafio Seazone para a vaga Analista de dados Júnior.\n",
    "\n",
    "Primeiramente realizou-se a importação das bibliotecas necessarias:"
   ]
  },
  {
   "cell_type": "code",
   "execution_count": null,
   "metadata": {},
   "outputs": [],
   "source": [
    "import pandas as pd\n",
    "import seaborn as srn\n",
    "import sys\n",
    "import sklearn.neighbors._base\n",
    "sys.modules['sklearn.neighbors.base'] = sklearn.neighbors._base\n",
    "from missingpy import MissForest\n",
    "from sklearn.preprocessing import LabelEncoder"
   ]
  },
  {
   "cell_type": "markdown",
   "metadata": {},
   "source": [
    "**Observação:** É importante salientar que caso não haja problemas de compatibilidade com a biblioteca missingpy com sua maquina esta parte do codigo apresentada acima pode ser ignorada:\n",
    "\n",
    "```\n",
    "import sys\n",
    "import sklearn.neighbors._base\n",
    "sys.modules['sklearn.neighbors.base'] = sklearn.neighbors._base\n",
    "```\n",
    "    \n",
    "Se a instalação dos pacotes foi realizada conforme o Readme nenhuma alteração será necessaria.\n",
    "<p>\n",
    "\n",
    "A seguir carregou-se os conjuntos de dados e visualizou-se suas as primeiras linhas.\n",
    "\n",
    "Os dados se encontram na pasta dados seazone."
   ]
  },
  {
   "cell_type": "code",
   "execution_count": null,
   "metadata": {
    "scrolled": false
   },
   "outputs": [],
   "source": [
    "#Carregando os dados\n",
    "\n",
    "#altere o diretorio para pasta que contem os dados em sua maquina\n",
    "%cd \"C:\\Users\\camil\\Documents\\seazone\" \n",
    "\n",
    "\n",
    "df_detalhes = pd.read_csv('desafio_details.csv')\n",
    "df_price = pd.read_csv('desafio_priceav.csv')\n",
    "df_detalhes.head()"
   ]
  },
  {
   "cell_type": "code",
   "execution_count": null,
   "metadata": {
    "scrolled": true
   },
   "outputs": [],
   "source": [
    "df_price.head()"
   ]
  },
  {
   "cell_type": "markdown",
   "metadata": {},
   "source": [
    "Observou-se que no dataframe há colunas desnecessarias utilizadas como indice que podem ser removidas sem nenhum prejuizo, conforme apresentado abaixo:"
   ]
  },
  {
   "cell_type": "code",
   "execution_count": null,
   "metadata": {
    "scrolled": true
   },
   "outputs": [],
   "source": [
    "df_price= df_price.drop(\"Unnamed: 0\", axis =1)\n",
    "df_price= df_price.drop(\"Unnamed: 0.1\", axis =1)\n",
    "df_detalhes= df_detalhes.drop(\"Unnamed: 0\", axis =1)\n",
    "\n",
    "df_price.head()"
   ]
  },
  {
   "cell_type": "code",
   "execution_count": null,
   "metadata": {},
   "outputs": [],
   "source": [
    "df_detalhes.head()"
   ]
  },
  {
   "cell_type": "markdown",
   "metadata": {},
   "source": [
    "Visualizou-se a dimensão dos dois conjuntos de dados e removemos as linhas duplicadas. Após as alterações observamos novamente a dimensão dos dados e podemos observar que o dataframe \"df_price\" possuia linhas duplicadas.\n",
    "\n",
    "Em seguida observamos a quantidade de valores nulos."
   ]
  },
  {
   "cell_type": "code",
   "execution_count": null,
   "metadata": {},
   "outputs": [],
   "source": [
    "#observado a dimensao dos dataframes\n",
    "print(f'Dimensão dos dados de preço dos listing')\n",
    "print(df_detalhes.shape, '\\n')\n",
    "print(f'Dimensão dos dados de caracteristicas dos listing')\n",
    "print(df_price.shape, '\\n')\n",
    "#removendo linhas duplicadas\n",
    "df_detalhes = df_detalhes.drop_duplicates()\n",
    "df_price = df_price.drop_duplicates()\n",
    "#dimensões após alterações\n",
    "print(f'Dimensão dos dados de preço dos listing após a remoção de linhas duplicadas')\n",
    "print(df_detalhes.shape, '\\n')\n",
    "print(f'Dimensão dos dados de caracteristicas dos listing após a remoção de linhas duplicadas')\n",
    "print(df_price.shape, '\\n')\n",
    "print(f'Valores nulos dos dados de caracteristicas dos listing')\n",
    "#Valores nulos para os datalhes\n",
    "print(df_detalhes.isnull().sum(), \"\\n\")\n",
    "#Valores nulos para os dados de preço\n",
    "print(f'Valores nulos dos dados de preço dos listing')\n",
    "print(df_price.isnull().sum())\n"
   ]
  },
  {
   "cell_type": "markdown",
   "metadata": {},
   "source": [
    "**Observação:** \n",
    "As duas proximas celulas de codigo são de imputação de valores faltantes, caso não deseje realiza-lo pule essas celulas.\n",
    "\n",
    "Na celula abaixo substituiu-se os valores faltantes pela mediana dos mesmos, como a quantidade de valores nulos é baixa nas colunas \"number_of_bedrooms\", \"number_of_bathrooms\" e \"numero number_of_reviews\" essa aproximação não trará problemas."
   ]
  },
  {
   "cell_type": "code",
   "execution_count": null,
   "metadata": {},
   "outputs": [],
   "source": [
    "df_detalhes['number_of_bedrooms'] = df_detalhes['number_of_bedrooms'].fillna(df_detalhes['number_of_bedrooms'].median())\n",
    "df_detalhes['number_of_bathrooms'] = df_detalhes['number_of_bathrooms'].fillna(df_detalhes['number_of_bathrooms'].median())\n",
    "df_detalhes['number_of_reviews'] = df_detalhes['number_of_reviews'].fillna(df_detalhes['number_of_reviews'].median())\n"
   ]
  },
  {
   "cell_type": "markdown",
   "metadata": {},
   "source": [
    "Como a coluna \"star_rating\" é de importancia no modelo não pode ser excluida apesar de cerca de 40% de seus valores serem nulos, para uma imputação mais acertiva e com menor vies foi utilizado o algortimo de RandomForest para imputar os valores nulos dessa variavel."
   ]
  },
  {
   "cell_type": "code",
   "execution_count": null,
   "metadata": {},
   "outputs": [],
   "source": [
    "#removendo colunas que não auxiliam na predição\n",
    "df_detalhes2 = df_detalhes\n",
    "df_detalhes2 = df_detalhes2.drop(['ad_name','airbnb_listing_id'], axis=1)\n",
    "\n",
    "#codificando colunas categoricas\n",
    "labelencoder = LabelEncoder()\n",
    "df_detalhes2['suburb'] = labelencoder.fit_transform(df_detalhes2['suburb'])\n",
    "df_detalhes2['is_superhost'] = labelencoder.fit_transform(df_detalhes2['is_superhost'])\n",
    "\n",
    "#convertendo a coluna 'star_rating' para str para que o modelo não faça uma regressão e sim use o classificador\n",
    "df_detalhes2['star_rating'] = df_detalhes2['star_rating'].astype(str)\n",
    "\n",
    "#imputando valores faltantes\n",
    "imputer = MissForest()\n",
    "X_imputed = imputer.fit_transform(df_detalhes2)\n",
    "df_detalhes[\"star_rating\"]= X_imputed"
   ]
  },
  {
   "cell_type": "markdown",
   "metadata": {},
   "source": [
    "Verificou-se então que não restam mais valores nulos nos dados de caracteristicas dos listings:"
   ]
  },
  {
   "cell_type": "code",
   "execution_count": null,
   "metadata": {},
   "outputs": [],
   "source": [
    "df_detalhes.isnull().sum()"
   ]
  },
  {
   "cell_type": "markdown",
   "metadata": {},
   "source": [
    "Com o tratamento dos dados ja concluido, realizou-se o primeiro item do desafio:\n",
    "\n",
    "\"Ordene os bairros em ordem crescente de número de listings\"\n",
    "\n",
    "Para isso através da função groupby observou-se a relação dos bairros e números de anúncios conforme apresentado."
   ]
  },
  {
   "cell_type": "code",
   "execution_count": null,
   "metadata": {},
   "outputs": [],
   "source": [
    "bairro_listining = df_detalhes.groupby([\"suburb\"]).size()\n",
    "print(bairro_listining)\n",
    "bairro_listining.plot.bar(color = 'gray', xlabel = \"Bairro\", ylabel = \"Número de Listings\")"
   ]
  },
  {
   "cell_type": "markdown",
   "metadata": {},
   "source": [
    "Pode-se observar que a ordem crescente de número de listing por bairros é: \n",
    "\n",
    "Centro < Lagoa da Conceição < Jurerê < Canasvieiras < Ingleses\n",
    "\n",
    "\n",
    "\n",
    "O segundo do desafio é:\n",
    "\" Ordene os bairros em ordem crescente de faturamento médio dos listings \"\n",
    "\n",
    "Primeiramente nos dados de preço extraimos através da função groupby o id do listing, a ocupação, pois só ocorre faturamento se o imovel tenha sido alugado e a média de preço do anuncio."
   ]
  },
  {
   "cell_type": "code",
   "execution_count": null,
   "metadata": {},
   "outputs": [],
   "source": [
    "df1 = df_price.groupby(['airbnb_listing_id', 'occupied'])['price_string'].mean()\n",
    "df1 = pd.DataFrame(df1.reset_index(name = \"faturamento_medio\"))\n",
    "df1.head()"
   ]
  },
  {
   "cell_type": "markdown",
   "metadata": {},
   "source": [
    "Nos dados de caracteristicas dos listing relacionamos o id do listing com o bairro"
   ]
  },
  {
   "cell_type": "code",
   "execution_count": null,
   "metadata": {},
   "outputs": [],
   "source": [
    "df2 = df_detalhes.groupby('airbnb_listing_id')['suburb'].sum()\n",
    "df2 = pd.DataFrame(df2.reset_index(name = \"bairro\"))\n",
    "df2.head()"
   ]
  },
  {
   "cell_type": "code",
   "execution_count": null,
   "metadata": {},
   "outputs": [],
   "source": [
    "df_fat = pd.merge(df1, df2, how = 'outer', on = 'airbnb_listing_id')\n",
    "print(df_fat.shape)\n",
    "df_fat.head()"
   ]
  },
  {
   "cell_type": "markdown",
   "metadata": {},
   "source": [
    "E finalmente unimos as relações através do numero de id do listing e consegumos encontrar faturamento médio dos listings de cada bairro."
   ]
  },
  {
   "cell_type": "code",
   "execution_count": null,
   "metadata": {},
   "outputs": [],
   "source": [
    "bairro_faturamento = df_fat.groupby(['bairro', 'occupied'])['faturamento_medio'].mean()\n",
    "bairro_faturamento = pd.DataFrame(bairro_faturamento.reset_index(name = \"faturamento_medio\"))\n",
    "bairro_faturamento = bairro_faturamento[bairro_faturamento[\"occupied\"] == 1 ]\n",
    "print(bairro_faturamento)\n",
    "bairro_faturamento.plot.bar(x = \"bairro\", y = \"faturamento_medio\", color = 'gray', legend = False, ylabel = \"Faturamento Médio\", xlabel = \"Bairro\")"
   ]
  },
  {
   "cell_type": "markdown",
   "metadata": {},
   "source": [
    "Pode-se observar então que a ordem crescente dos bairros por faturamento é:\n",
    "\n",
    "Centro < Lagoa da Conceição < Canasvieiras < Ingleses < Jurerê"
   ]
  },
  {
   "cell_type": "markdown",
   "metadata": {},
   "source": [
    "O terceiro item do desafio é:\n",
    "\n",
    "\"Existem correlações entre as características de um anúncio e seu faturamento? Quais? Explique\"\n",
    "\n",
    "Primeiramente selecionou-se apenas as linhas dos dados em que houve a ocupação e consequentemente faturamento."
   ]
  },
  {
   "cell_type": "code",
   "execution_count": null,
   "metadata": {},
   "outputs": [],
   "source": [
    "df_price= df_price[df_price['occupied'] == 1]\n",
    "\n",
    "df_price.head()\n"
   ]
  },
  {
   "cell_type": "markdown",
   "metadata": {},
   "source": [
    "Agrupou-se o id do listing pelo seu faturamento"
   ]
  },
  {
   "cell_type": "code",
   "execution_count": null,
   "metadata": {},
   "outputs": [],
   "source": [
    "faturamento = df_price.groupby('airbnb_listing_id')['price_string'].sum()\n",
    "\n",
    "faturamento = pd.DataFrame(faturamento.reset_index(name = \"faturamento\"))\n",
    "faturamento.head()"
   ]
  },
  {
   "cell_type": "markdown",
   "metadata": {},
   "source": [
    "Uniu-se as informações do conjuto de dados de carcteristicas dos listings (df_detalhes) com o faturamento através do id do anuncio.\n",
    "\n",
    "O faturamento dos id dos listings que não arrecadaram foram preenchidos por 0 para não constar como valores nulos."
   ]
  },
  {
   "cell_type": "code",
   "execution_count": null,
   "metadata": {},
   "outputs": [],
   "source": [
    "df_faturamento = pd.merge(df_detalhes, faturamento, how = 'outer', on = 'airbnb_listing_id')\n",
    "print(df_faturamento.shape)\n",
    "\n",
    "#Preenchendo valores nulos de Id que não faturaram por 0\n",
    "df_faturamento['faturamento'] = df_faturamento['faturamento'].fillna(0)\n",
    "\n",
    "#visualizando\n",
    "df_faturamento.head()"
   ]
  },
  {
   "cell_type": "markdown",
   "metadata": {},
   "source": [
    "Calculou-se a correlação.\n",
    "\n",
    "Primeiramente foi verificada a correlação de Pearson:"
   ]
  },
  {
   "cell_type": "code",
   "execution_count": null,
   "metadata": {},
   "outputs": [],
   "source": [
    "#correlação de pearson\n",
    "correlation = df_faturamento.corr()\n",
    "print(correlation['faturamento'])"
   ]
  },
  {
   "cell_type": "code",
   "execution_count": null,
   "metadata": {},
   "outputs": [],
   "source": [
    "plot = srn.heatmap(correlation, annot = True, fmt=\".1f\", linewidths=.8)\n",
    "plot"
   ]
  },
  {
   "cell_type": "markdown",
   "metadata": {},
   "source": [
    "Contatou-se que há correlações positivas bem fracas entre o faturamento e o número de banheiros, número de quartos e número de comentários (correlação de Pearson de aproximadamente 0.1) essas correlações significam que cerca 1% da variação do faturamento pode ser explicada por essas variáveis, sendo ainda que o impacto causado é positivo no sentido de aumentar o faturamento. As variáveis nota do anúncio e superhost tem coeficiente inferior a 0.1, sendo então, considerados desprezíveis pela maioria dos autores. É importante salientar que alguns autores sugerem que as correlações fracas são acima de 0.3 e não de 0.1. Assim, o julgamento deve ser realizado pelo analista que pode calcular um valor de p para auxilia-lo na decisão a um nível de significância e verificar se o coeficiente é significativo ou não. "
   ]
  },
  {
   "cell_type": "markdown",
   "metadata": {},
   "source": [
    "O coeficiente de correlação de Pearson mede a correlação linear entre as variáveis, a fim de se verificar se há uma correlação não linear também calculou-se o coeficiente de correlação de Spearman "
   ]
  },
  {
   "cell_type": "code",
   "execution_count": null,
   "metadata": {},
   "outputs": [],
   "source": [
    "#correlação de sperman\n",
    "correlation = df_faturamento.corr(method = 'spearman')\n",
    "print(correlation['faturamento'])"
   ]
  },
  {
   "cell_type": "code",
   "execution_count": null,
   "metadata": {},
   "outputs": [],
   "source": [
    "plot = srn.heatmap(correlation, annot = True, fmt=\".1f\", linewidths=.8)\n",
    "plot"
   ]
  },
  {
   "cell_type": "markdown",
   "metadata": {},
   "source": [
    "Conforme observado os valores não diferem muito do coeficiente de Pearson, possuindo correlações desprezíveis ou bem fracas.\n",
    "\n",
    "Dessa forma, deve-se buscar outras variáveis que possam ter maior correlação com o faturamento afim de descobrir possíveis formas de maximiza-lo. As variáveis categóricas não dicotômicas bairros e título não são passiveis de aplicação de correlação, porém elas podem influenciar o faturamento, outra forma de associação deve ser utilizada, uma das formas mais comuns é aplicar um teste de associação chamado de teste do qui-quadrado que poderia ser utilizado para avaliar a influência dos barros por exemplo."
   ]
  },
  {
   "cell_type": "markdown",
   "metadata": {},
   "source": [
    "O ultimo item do desafio é: \n",
    " \"Qual a antecedência média das reservas?\n",
    "a. Esse número é maior ou menor para finais de semana?\"\n",
    "\n",
    "Primeiramente converteu-se as colunas 'booked_on' e 'date' para o formato datatime:"
   ]
  },
  {
   "cell_type": "code",
   "execution_count": null,
   "metadata": {},
   "outputs": [],
   "source": [
    "df_price['booked_on'] = pd.to_datetime(df_price['booked_on'])\n",
    "df_price['date'] = pd.to_datetime(df_price['date'])"
   ]
  },
  {
   "cell_type": "code",
   "execution_count": null,
   "metadata": {},
   "outputs": [],
   "source": [
    "df_price.info()"
   ]
  },
  {
   "cell_type": "markdown",
   "metadata": {},
   "source": [
    "Criou-se a coluna antecendencia que mede a quantidade de dias anteior a data de ocupação que o imovel foi alugado."
   ]
  },
  {
   "cell_type": "code",
   "execution_count": null,
   "metadata": {},
   "outputs": [],
   "source": [
    "df_price['antecedencia']= abs((df_price['booked_on'] - df_price['date']).dt.days)\n",
    "df_price.head()"
   ]
  },
  {
   "cell_type": "markdown",
   "metadata": {},
   "source": [
    "Calculamos o valor médio da antecedencia conforme apresentado abaixo, podemos visualizar que a antecedencia média de foi 37.95 aproximadamente."
   ]
  },
  {
   "cell_type": "code",
   "execution_count": null,
   "metadata": {},
   "outputs": [],
   "source": [
    "#visualizando a média\n",
    "print(f'A antecedência média é:{round(df_price[\"antecedencia\"].mean(),2)}')"
   ]
  },
  {
   "cell_type": "markdown",
   "metadata": {},
   "source": [
    "Observou-se também a antecedênca média para alugar datas para o fim de semana, para isso, criou-se a coluna \"dia_semana\" para computar o dia da semana de \"date\" e assim selecionou-se os dias correspondetes a fins de semana e calculou-se a média de antecedencia."
   ]
  },
  {
   "cell_type": "code",
   "execution_count": null,
   "metadata": {},
   "outputs": [],
   "source": [
    "#criando coluna dia_semana\n",
    "df_price['dia_semana'] = df_price['date'].dt.strftime('%A')\n",
    "df_price.head()"
   ]
  },
  {
   "cell_type": "code",
   "execution_count": null,
   "metadata": {},
   "outputs": [],
   "source": [
    "#visualizando os dias da semana e a quantidade de ocupações em cada um deles\n",
    "df_price.groupby('dia_semana').size()\n"
   ]
  },
  {
   "cell_type": "code",
   "execution_count": null,
   "metadata": {},
   "outputs": [],
   "source": [
    "#selecionando os finais de semana\n",
    "df_price = df_price[df_price['dia_semana'].str.contains(\"S\")]\n",
    "df_price.head()"
   ]
  },
  {
   "cell_type": "code",
   "execution_count": null,
   "metadata": {},
   "outputs": [],
   "source": [
    "#visualizando os dias da semana que foram selecionados e a quantidade de ocupações em cada um deles\n",
    "df_price.groupby('dia_semana').size()"
   ]
  },
  {
   "cell_type": "code",
   "execution_count": null,
   "metadata": {},
   "outputs": [],
   "source": [
    "#calculando média de antecedência\n",
    "\n",
    "print(f'A antecedência média para finais de semana é:{round(df_price[\"antecedencia\"].mean(),2)}')"
   ]
  },
  {
   "cell_type": "markdown",
   "metadata": {},
   "source": [
    "Assim, observou-se que a média de antecedencia para o fim de semana é menor cerca de 37.41, mas a diferença é tão pequena que pode ser considerada desprezivel."
   ]
  }
 ],
 "metadata": {
  "kernelspec": {
   "display_name": "Python 3 (ipykernel)",
   "language": "python",
   "name": "python3"
  },
  "language_info": {
   "codemirror_mode": {
    "name": "ipython",
    "version": 3
   },
   "file_extension": ".py",
   "mimetype": "text/x-python",
   "name": "python",
   "nbconvert_exporter": "python",
   "pygments_lexer": "ipython3",
   "version": "3.8.12"
  }
 },
 "nbformat": 4,
 "nbformat_minor": 4
}
